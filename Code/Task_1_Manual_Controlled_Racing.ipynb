{
 "cells": [
  {
   "cell_type": "markdown",
   "id": "complimentary-sustainability",
   "metadata": {},
   "source": [
    "## Task 1: Manual Controlled Racing \n",
    "\n",
    "## Connect to the controller "
   ]
  },
  {
   "cell_type": "code",
   "execution_count": 1,
   "id": "usual-crowd",
   "metadata": {},
   "outputs": [
    {
     "data": {
      "application/vnd.jupyter.widget-view+json": {
       "model_id": "9be176ec7af04d2488ee4e6be2032097",
       "version_major": 2,
       "version_minor": 0
      },
      "text/plain": [
       "Controller(index=3)"
      ]
     },
     "metadata": {},
     "output_type": "display_data"
    }
   ],
   "source": [
    "from jetbot import Robot \n",
    "\n",
    "robot = Robot() \n",
    "\n",
    "import ipywidgets.widgets as widgets \n",
    "\n",
    "controller = widgets.Controller(index=3)  # replace with index of your controller \n",
    "\n",
    "display(controller) "
   ]
  },
  {
   "cell_type": "markdown",
   "id": "compatible-server",
   "metadata": {},
   "source": [
    "## Control Code "
   ]
  },
  {
   "cell_type": "code",
   "execution_count": null,
   "id": "constitutional-instrument",
   "metadata": {},
   "outputs": [],
   "source": [
    "from jetbot import Robot \n",
    "\n",
    "import traitlets \n",
    "\n",
    "robot = Robot() \n",
    "\n",
    "forward1 = traitlets.dlink((controller.buttons[7], 'value'), (robot.left_motor, 'value'), transform=lambda x: x) \n",
    "forward2 = traitlets.dlink((controller.buttons[7], 'value'), (robot.right_motor, 'value'), transform=lambda x: x) \n",
    "back1 = traitlets.dlink((controller.buttons[6], 'value'), (robot.left_motor, 'value'), transform=lambda x: -x) \n",
    "back2 = traitlets.dlink((controller.buttons[6], 'value'), (robot.right_motor, 'value'), transform=lambda x: -x) \n",
    "left_link = traitlets.dlink((controller.buttons[15], 'value'), (robot.left_motor, 'value'), transform=lambda x: x) \n",
    "right_link = traitlets.dlink((controller.buttons[14], 'value'), (robot.right_motor, 'value'), transform=lambda x: x) \n"
   ]
  }
 ],
 "metadata": {
  "kernelspec": {
   "display_name": "Python 3",
   "language": "python",
   "name": "python3"
  },
  "language_info": {
   "codemirror_mode": {
    "name": "ipython",
    "version": 3
   },
   "file_extension": ".py",
   "mimetype": "text/x-python",
   "name": "python",
   "nbconvert_exporter": "python",
   "pygments_lexer": "ipython3",
   "version": "3.6.9"
  }
 },
 "nbformat": 4,
 "nbformat_minor": 5
}
